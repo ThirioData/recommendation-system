{
 "cells": [
  {
   "cell_type": "code",
   "execution_count": 55,
   "metadata": {
    "collapsed": true
   },
   "outputs": [],
   "source": [
    "import pandas as pd\n",
    "import numpy as np\n",
    "import re\n",
    "import os\n",
    "from sklearn.cluster import KMeans\n",
    "import ast\n",
    "import itertools\n",
    "user_feat = pd.read_csv('user_features.csv')"
   ]
  },
  {
   "cell_type": "code",
   "execution_count": 56,
   "metadata": {
    "collapsed": true
   },
   "outputs": [],
   "source": [
    "#reading data from csv files\n",
    "\n",
    "\n",
    "\n",
    "num = np.arange(500,5000)\n",
    "num = num[0:len(user_feat)]\n",
    "user_feat['user_guid'] = num\n",
    "user_feat['Calorie'] = np.random.randint(40,500, size=len(user_feat))\n",
    "#print user_feat\n",
    "\n",
    "spice_feat = pd.read_csv('spice_features.csv')\n",
    "\n",
    "#print spice_feat\n",
    "#food user rating table\n",
    "food_user = pd.DataFrame(np.random.randint(low=0, high=2, size=(len(spice_feat),len(user_feat))),columns=user_feat.user_guid)\n",
    "food_user.index  =  spice_feat['food_id']\n",
    "#print food_user.head()\n",
    "\n"
   ]
  },
  {
   "cell_type": "code",
   "execution_count": 57,
   "metadata": {
    "collapsed": true
   },
   "outputs": [],
   "source": [
    "#Data Normalisation\n",
    "\n",
    "def nor_age(age):\n",
    "    \n",
    "    if(age<=10):\n",
    "        return 1\n",
    "    elif(age>10 and age <=18):\n",
    "        return 2\n",
    "    elif(age>18 and age <=25):\n",
    "        return 3\n",
    "    elif(age>25 and age <=35):\n",
    "        return 4\n",
    "    elif(age>35 and age <=40):\n",
    "        return 5\n",
    "    elif(age>40 and age <=50):\n",
    "        return 6\n",
    "    elif(age>50 and age<=60):\n",
    "        return 7\n",
    "    else:\n",
    "        return 8\n",
    "    \n",
    "    \n",
    "\n",
    "s_dict = {\"M\":1,\"F\":5 }\n",
    "l_dict = {'Jammu & Kashmir':2, 'Punjab & Haryana':5, 'Rajasthan':8, 'Maharashtra':10, 'South India':15}\n",
    "user_feat['Age'] = user_feat['Age'].apply(nor_age)\n",
    "user_feat  = user_feat.replace({\"Sex\":s_dict})\n",
    "user_feat  = user_feat.replace({\"Location\":l_dict})"
   ]
  },
  {
   "cell_type": "code",
   "execution_count": 58,
   "metadata": {
    "collapsed": true
   },
   "outputs": [],
   "source": [
    "#dataset for content based recommender\n",
    "spice = np.array(spice_feat.iloc[:,0:4])\n",
    "#print spice\n",
    "user_rating = pd.DataFrame(np.random.randint(low=-1, high=2, size=(len(spice_feat),len(user_feat))),columns=user_feat.user_guid)\n",
    "user_rating.index = spice_feat['food_id']\n",
    "#user tells rating and spice tells if ingrediant is there or not."
   ]
  },
  {
   "cell_type": "code",
   "execution_count": 59,
   "metadata": {
    "collapsed": true
   },
   "outputs": [],
   "source": [
    "#prepare dataset for 5 day window recommendation\n",
    "import random\n",
    "from random import randint\n",
    "\n",
    "\n",
    "recommend_data = []\n",
    "bought_data = []\n",
    "\n",
    "for i in range(100):\n",
    "    length = 3\n",
    "    my_randoms = []\n",
    "    for i in range(5):\n",
    "        my_randoms.append(random.sample(xrange(6000,7000), 3))\n",
    "    recommend_data.append(my_randoms)\n",
    "    \n",
    "    \n",
    "\n",
    "for i in range(100):\n",
    "    length = randint(0,5)\n",
    "    my_randoms = []\n",
    "    for i in range(5):\n",
    "        my_randoms.append(random.sample(xrange(6000,7000), length))\n",
    "    bought_data.append(my_randoms)\n",
    "    \n",
    "recommends = []\n",
    "for i in range(100):\n",
    "    recommends.append(random.sample(xrange(6000,7000), 3))\n",
    "\n",
    "bought = []\n",
    "for i in range(100):\n",
    "    length = randint(0,5)\n",
    "    bought.append(random.sample(xrange(6000,7000), length))\n",
    "    \n",
    "\n",
    "new_user_feat = pd.DataFrame(user_feat.user_guid)\n",
    "new_user_feat['last_5_days_recommend'] = recommend_data\n",
    "new_user_feat['last_5_days_bought'] = bought_data\n",
    "new_user_feat['recommends'] = recommends\n",
    "new_user_feat['bought']  = bought\n",
    "new_user_feat.to_csv('new_user_feat.csv', encoding='utf-8', index=False)"
   ]
  },
  {
   "cell_type": "code",
   "execution_count": 60,
   "metadata": {
    "collapsed": true
   },
   "outputs": [],
   "source": [
    "def clustering_based(user_feat):    \n",
    "    kmeans = KMeans(n_clusters = 10,random_state=0).fit(user_feat)\n",
    "    user_feat['label'] = kmeans.labels_\n",
    "    #print user_label\n",
    "    user_feat = user_feat.sort_values(['label','Location'],ascending=[1,0])\n",
    "    user = user_feat.drop_duplicates(subset=['Location','label'])\n",
    "    user = user.groupby('label')['Location'].nlargest(3)\n",
    "    return user,user_feat\n"
   ]
  },
  {
   "cell_type": "code",
   "execution_count": 61,
   "metadata": {
    "collapsed": true
   },
   "outputs": [],
   "source": [
    "def filter_food_loc(user_group,user_id,non_recom_list,user_feat,spice_feat):\n",
    "    index = np.where(user_feat['user_guid']==user_id)[0][0]\n",
    "    print index\n",
    "    #print user_feat['label']\n",
    "    user_label = user_feat.loc[index,'label']\n",
    "    loc = user_group[user_label].tolist()\n",
    "    newspice_feat = spice_feat.set_index('food_id')\n",
    "    spice = newspice_feat[newspice_feat['Location'].isin(loc)]\n",
    "    #print spice\n",
    "    return filter_food_cal(spice,non_recom_list,user_feat,user_id),loc \n",
    "    \n",
    "def filter_food_cal(sspice,non_recom_list,user_feat,user_id):\n",
    "    index = np.where(user_feat['user_guid']==user_id)[0][0]\n",
    "    sspice = sspice[sspice['NonVeg']==user_feat.loc[index,'NonVeg']]\n",
    "    #print spice\n",
    "    s_spice =  sspice.sort_values('count',ascending=[0])\n",
    "    s_index = s_spice.index[~s_spice.index.isin(non_recom_list)]\n",
    "    #print ' rec ',non_recom_list\n",
    "    new_spices = s_spice[s_spice.index.isin(s_index)]\n",
    "    #print new_spices\n",
    "    new_spices = new_spices[new_spices['calorie']<user_feat.loc[index,'Calorie']]\n",
    "    return new_spices"
   ]
  },
  {
   "cell_type": "code",
   "execution_count": 62,
   "metadata": {
    "collapsed": true
   },
   "outputs": [],
   "source": [
    "def recommendation(user_group,user_id,non_recom_list,user_feat,spice_feat):\n",
    "    new_spices,loc = filter_food_loc(user_group,user_id,non_recom_list,user_feat,spice_feat)\n",
    "    recommend = []\n",
    "    for i in range(min(3,len(new_spices))):\n",
    "        recommend.append(new_spices.index[i])\n",
    "\n",
    "    if(len(recommend)==0):\n",
    "        other_state_spice = spice_feat[spice_feat['State'].isin(loc)==False]\n",
    "\n",
    "        other_state_spice = other_state_spice.sort('count',ascending= [0])\n",
    "        new_other_state = other_state_spice[~other_state_spice.index.isin(non_recom_list)]\n",
    "\n",
    "        for i in range(min(3,len(new_other_state))):\n",
    "            recommend.append(new_other_state.index[i])\n",
    "            \n",
    "    return recommend    "
   ]
  },
  {
   "cell_type": "code",
   "execution_count": null,
   "metadata": {
    "collapsed": true
   },
   "outputs": [],
   "source": []
  },
  {
   "cell_type": "code",
   "execution_count": 63,
   "metadata": {
    "collapsed": true,
    "scrolled": true
   },
   "outputs": [],
   "source": [
    "# we have user_table which will give rating to a particular dish\n",
    "# content based recommeder system\n",
    "# we have 2 tables with us\n",
    "\n",
    "#one is food - spices table and another is food-user rating table\n",
    "#we will use tf-idf approach\n",
    "#matrix of spice will contain only of 1 and 0's so need to normalize it\n",
    "\n",
    "#normalization along the row\n",
    "def spice_norm(spice):\n",
    "    \n",
    "    num_attr = np.sum(spice,axis=1)\n",
    "    doc_vec = []\n",
    "    for i in range(num_attr.shape[0]):\n",
    "        if(num_attr[i] != 0): \n",
    "            doc_vec.append(np.sqrt(spice[i,:]*1.0/num_attr[i]))\n",
    "        else:\n",
    "            doc_vec.append(spice[i,:])\n",
    "    return np.array(doc_vec)      \n",
    "    \n",
    "    \n",
    "    \n",
    "def attr_norm(spice):\n",
    "    \n",
    "    num_attr = np.sum(spice,axis=0)\n",
    "    \n",
    "    doc_vec = []\n",
    "    for i in range(num_attr.shape[0]):\n",
    "        if(num_attr[i] != 0):\n",
    "            doc_vec.append(spice[:,i]*1.0 / num_attr[i])\n",
    "        else:\n",
    "            doc_vec.append(spice[:,i])\n",
    "    return np.array(doc_vec)\n",
    "\n",
    "def user_v(spice_mat,user):\n",
    "    user_vec = []\n",
    "    \n",
    "    \n",
    "    #print user[:,0]\n",
    "    #print spice_mat[:,0]\n",
    "    \n",
    "    for i in range(user.shape[1]):\n",
    "        user_vec.append([np.dot(user[:,i],spice_mat[:,j]) for j in range(spice_mat.shape[1])])\n",
    "    \n",
    "    print (user_vec)\n",
    "    return np.array(user_vec)\n",
    "    \n",
    "def weight_predict(spice_mat,user):\n",
    "        \n",
    "    user_vec = user_v(spice_mat,user)\n",
    "    \n",
    "    preds = []\n",
    "    #print spice_mat\n",
    "    for i in range(spice_mat.shape[0]):\n",
    "        preds.append([np.dot(spice_mat[i,:],user_vec[j,:]) for j in range(user_vec.shape[0])])\n",
    "\n",
    "    return np.array(preds)\n",
    "    \n",
    "    \n",
    "def idf_weight_pred(user,spice):\n",
    "    spice_mat = spice_norm(spice)\n",
    "    attr_wght = attr_norm(spice)\n",
    "    #print attr_wght\n",
    "    weighted_spice = []\n",
    "    \n",
    "    for i in range(spice_mat.shape[0]):\n",
    "        weighted_spice.append([np.dot(spice_mat[i,:],attr_wght[:,j]) for j in range(attr_wght.shape[0])])\n",
    "        \n",
    "    preds  = weight_predict(np.array(weighted_spice),user)     \n",
    "    \n",
    "    return np.array(preds)\n",
    "    \n",
    "\n",
    "\n",
    "\n",
    "\n",
    "#print preds.shape"
   ]
  },
  {
   "cell_type": "code",
   "execution_count": 64,
   "metadata": {
    "collapsed": true
   },
   "outputs": [],
   "source": [
    "def content_based_reco(user_rating,spice):\n",
    "    preds = idf_weight_pred(np.array(user_rating),spice)\n",
    "    outputdf = pd.DataFrame(data = preds,index = user_rating.index ,columns = user_rating.columns)\n",
    "    return outputdf  \n",
    "\n",
    "def recommendation_content(user_id,spice_feat,user_rating,non_recom_list,user_feat,outputdf):\n",
    "    #spice_feat = np.array(spice_feat.iloc[:,0:4])\n",
    "    #outputdf = content_based_reco(user_rating,spice_feat)\n",
    "    \n",
    "    spice = filter_food_cal(spice_feat,non_recom_list,user_feat,user_id)\n",
    "    #print s_index\n",
    "    spice.index = spice['food_id']\n",
    "    output = outputdf[outputdf.index.isin(spice.index)]\n",
    "    #print user_df.columns\n",
    "    newoutput = output[user_id].sort_values(ascending = False)\n",
    "    #print newoutput\n",
    "    food_to_recommend = list(newoutput[0:3].index)\n",
    "\n",
    "    return  food_to_recommend\n",
    "\n",
    "\n"
   ]
  },
  {
   "cell_type": "code",
   "execution_count": 65,
   "metadata": {
    "collapsed": true
   },
   "outputs": [],
   "source": [
    "\n",
    "def convert_list(row):\n",
    "    x = str(row['last_5_days_recommend'])\n",
    "    y = str(row['last_5_days_bought'])\n",
    "    if isinstance(x,basestring):\n",
    "        x = ast.literal_eval(x)\n",
    "    if isinstance(y,basestring):\n",
    "        y = ast.literal_eval(y)    \n",
    "        \n",
    "    l1 =  list(itertools.chain.from_iterable(x))\n",
    "    l2 =  list(itertools.chain.from_iterable(y)) \n",
    "    #print l1+l2\n",
    "    return l1+l2 "
   ]
  },
  {
   "cell_type": "code",
   "execution_count": 66,
   "metadata": {
    "collapsed": true
   },
   "outputs": [],
   "source": [
    "#for next day\n",
    "#update the user_feat table for not recommenddation\n",
    "def change_last_recommend(x,y):\n",
    "    #print (row['last 5 days recommend'])\n",
    "    new_recommend = []\n",
    "    #print type(x) ,y,count \n",
    "    if isinstance(x,basestring):\n",
    "        x = ast.literal_eval(x)\n",
    "    if isinstance(y,basestring):\n",
    "        y = ast.literal_eval(y)    \n",
    "    for i in range(4):\n",
    "        new_recommend.append(x[i+1])\n",
    "    new_recommend.append(y)\n",
    "    #print new_recommend\n",
    "    return str(new_recommend)"
   ]
  },
  {
   "cell_type": "code",
   "execution_count": 67,
   "metadata": {
    "collapsed": true
   },
   "outputs": [],
   "source": [
    "global count\n",
    "count=0"
   ]
  },
  {
   "cell_type": "code",
   "execution_count": 68,
   "metadata": {
    "collapsed": true
   },
   "outputs": [],
   "source": [
    "def recommend_items(user_id,non_recom_list,user,user_feat,spice_feat,user_rating,output_df):\n",
    "    #print type(non_recom_list)\n",
    "    l1 = recommendation(user,user_id,non_recom_list,user_feat,spice_feat)\n",
    "    print 'something1'\n",
    "    l2 = recommendation_content(user_id,spice_feat,user_rating,non_recom_list,user_feat,output_df)\n",
    "    \n",
    "    return str(l1+l2)"
   ]
  },
  {
   "cell_type": "code",
   "execution_count": 69,
   "metadata": {
    "collapsed": true
   },
   "outputs": [],
   "source": [
    "def change_type(x):\n",
    "    if isinstance(x,basestring):\n",
    "        x = ast.literal_eval(x)\n",
    "    return x    "
   ]
  },
  {
   "cell_type": "code",
   "execution_count": 70,
   "metadata": {
    "collapsed": true
   },
   "outputs": [],
   "source": [
    "def next_day_recommendation(user_feat,new_user_feat,spice_feat,user_rating):\n",
    "    new_user_feat['last_5_days_recommend'] = new_user_feat.apply(lambda x: change_last_recommend(x['last_5_days_recommend'], x['recommends']), axis=1)\n",
    "    new_user_feat['last_5_days_bought'] = new_user_feat.apply(lambda x: change_last_recommend(x['last_5_days_bought'], x['bought']), axis=1)\n",
    "    new_user_feat['not_recommended'] = new_user_feat.apply(convert_list,axis=1)\n",
    "    print new_user_feat['last_5_days_recommend'][0]\n",
    "    print new_user_feat['last_5_days_bought'][0] \n",
    "    print new_user_feat['not_recommended'][0]\n",
    "    user_group ,user_feat = clustering_based(user_feat)\n",
    "    spice = np.array(spice_feat.iloc[: ,0:4])\n",
    "    outputdf  = content_based_reco(user_rating, spice)\n",
    "    new_user_feat['not_recommended'] = new_user_feat.apply(lambda x:change_type(x['not_recommended']),axis=1)\n",
    "    #new_user_feat['not_recommended'].to_csv('not_recommended.csv',encoding='utf-8',index = False)\n",
    "    #print new_user_feat\n",
    "    new_user_feat['recommends'] = new_user_feat.apply(lambda x:recommend_items(x['user_guid'],x['not_recommended'],user_group,user_feat,spice_feat,user_rating,outputdf),axis=1)\n",
    "    print new_user_feat\n",
    "    return new_user_feat\n",
    "    \n",
    "def main_recommendation(user_feat,spice_feat,user_rating):\n",
    "    new_user_feat = pd.read_csv('new_user_feat.csv')\n",
    "    next_day = input('type 0 for recommending items or 1 for next_day recommendation') \n",
    "    if next_day == 1:\n",
    "        new_user_feat = next_day_recommendation(user_feat,new_user_feat,spice_feat,user_rating)\n",
    "        new_user_feat.to_csv('new_user_feat.csv',encoding='utf-8',index = False)       \n",
    "    else:\n",
    "        user_id = input('enter the user_id')\n",
    "        index = np.where(new_user_feat['user_guid']==user_id)[0]\n",
    "        print new_user_feat.loc[index[0],'recommends']"
   ]
  },
  {
   "cell_type": "code",
   "execution_count": 72,
   "metadata": {},
   "outputs": [
    {
     "name": "stdout",
     "output_type": "stream",
     "text": [
      "type 0 for recommending items or 1 for next_day recommendation1\n",
      "[[6395, 6060, 6946], [6603, 6327, 6533], [6410, 6112, 6988], [6759, 6689, 6737], [6264, 6737, 6331]]\n",
      "[[6170, 6280, 6460], [6239, 6053, 6123], [6316, 6812, 6595], [6766, 6790, 6459], []]\n",
      "[6395, 6060, 6946, 6603, 6327, 6533, 6410, 6112, 6988, 6759, 6689, 6737, 6264, 6737, 6331, 6170, 6280, 6460, 6239, 6053, 6123, 6316, 6812, 6595, 6766, 6790, 6459]\n",
      "[[-0.053794350597337337, -0.13815495340403208, -0.053794350597337337, -0.1001877821194327], [0.078388300840106673, 0.059799458432791497, 0.078388300840106673, 0.035590347762478811], [0.07671817684599562, 0.21402552131941527, 0.07671817684599562, 0.23641714350680454], [-0.029727708874591918, -0.048910051373772037, -0.029727708874591918, -0.073711219392052177], [0.14388764784136213, 0.06048643066475691, 0.14388764784136213, 0.14358807734424237], [0.067003015273659927, 0.09440308146449651, 0.067003015273659927, 0.012011651696066595], [0.06444268687203672, 0.12659751009451511, 0.06444268687203672, 0.019107259799243093], [0.1628166073005245, 0.2388870966601491, 0.1628166073005245, 0.10941003370914051], [-0.2437679006513539, -0.18671751978250017, -0.2437679006513539, -0.046422666013677338], [0.24712931315200515, 0.35273630991282673, 0.24712931315200515, 0.26598417652581341], [0.28464134285405429, 0.31811224623878803, 0.28464134285405429, 0.21537975422291161], [-0.091226891167855081, -0.12851838325930556, -0.091226891167855081, -0.12011013827238201], [0.0046427070650294222, 0.018240914395539931, 0.0046427070650294222, 0.065784935621316903], [0.065029375741687032, 0.085105723325725788, 0.065029375741687032, 0.021050619505504353], [0.2982729860419458, 0.37100257950989834, 0.2982729860419458, 0.33032820988584616], [-0.058388480688272196, -0.066996052941978024, -0.058388480688272196, -0.085332378890186522], [-0.15240352538440616, -0.25880767376690822, -0.15240352538440616, -0.27719757822666213], [-0.32856145336972276, -0.43650153366053746, -0.32856145336972276, -0.33400211310168049], [-0.18841444963939233, -0.37062005530647235, -0.18841444963939233, -0.2409634994099899], [0.25890060426739148, 0.33364582245870161, 0.25890060426739148, 0.23679387003577002], [-0.072956404371205513, -0.14408468538561453, -0.072956404371205513, -0.13767342182708828], [0.23579143017457016, 0.3687500663946392, 0.23579143017457016, 0.26108032315389312], [0.05402254118807126, 0.19893665476370093, 0.05402254118807126, 0.28662432164794854], [0.24236415909838327, 0.28315878108991488, 0.24236415909838327, 0.14357414423214754], [-0.049030029168816436, -0.10921765439952653, -0.049030029168816436, -0.04244759736901163], [0.11508338046760984, 0.14180010231358608, 0.11508338046760984, 0.032305115719076058], [-0.055263704981955299, -0.20825727126465671, -0.055263704981955299, -0.1514230500662673], [-0.01017697268296204, 0.019839227533279769, -0.01017697268296204, 0.078147461065325663], [-0.32299777672508362, -0.45765457886187444, -0.32299777672508362, -0.33947245218271649], [-0.013268644087048892, -0.091996684993485039, -0.013268644087048892, -0.087410664788722739], [0.17035012650613679, 0.27377926453519158, 0.17035012650613679, 0.13789093802565694], [-0.055400857827269931, -0.098487145827388323, -0.055400857827269931, -0.075564799674417565], [-0.091165224796641381, -0.11655667547430328, -0.091165224796641381, -0.11891264279364872], [0.10492404981400534, 0.14466243271226903, 0.10492404981400534, 0.21606433358825106], [-0.27663560517382046, -0.42717527143952594, -0.27663560517382046, -0.36246352921979447], [-0.29481338717793704, -0.49242216415888673, -0.29481338717793704, -0.46803356054310008], [-0.023474946334064661, 0.076499488526498155, -0.023474946334064661, 0.15096757363288116], [0.13593474208746478, 0.34103648089380434, 0.13593474208746478, 0.33133371651869842], [-0.13237910727503699, -0.11909835875116204, -0.13237910727503699, 0.029478825570655839], [-0.31345150889928386, -0.42963327590557954, -0.31345150889928386, -0.35075866353990837], [0.2384169024894626, 0.28664905036461202, 0.2384169024894626, 0.23550812094285278], [-0.12585658535449618, -0.18736948175352058, -0.12585658535449618, -0.23156842365117219], [0.022701360187551284, 0.068762658541116822, 0.022701360187551284, 0.10584787484002732], [-0.16823862501147202, -0.2381968596557929, -0.16823862501147202, -0.22897899560556353], [-0.2275674227277, -0.11946510842847619, -0.2275674227277, -0.019898202795251063], [0.058660839466433759, 0.098130190289650934, 0.058660839466433759, 0.069686290434683523], [0.0025124273716344361, -0.13427380676533407, 0.0025124273716344361, -0.20121560187048243], [-0.10958691291755868, -0.0673047857493035, -0.10958691291755868, -0.0012985241413895621], [0.12703277487263648, 0.10381918292674139, 0.12703277487263648, 0.089179167326765618], [-0.076164018004512307, -0.20349710153450543, -0.076164018004512307, -0.15724759969691099], [-0.21298530019754391, -0.30132872571936459, -0.21298530019754391, -0.17314618215653862], [0.2125807438889438, 0.1558548310369085, 0.2125807438889438, 0.074398934765713021], [0.25234829927261138, 0.31365754414182018, 0.25234829927261138, 0.089856234161858881], [-0.200140233514287, -0.10346527702398967, -0.200140233514287, -0.011371082880453715], [-0.041541673213493321, -0.089936055097051965, -0.041541673213493321, -0.07101542667171655], [0.17251719712451349, 0.22107381301648135, 0.17251719712451349, 0.13049945484730668], [0.18354717783573316, 0.25218014131173982, 0.18354717783573316, 0.21203649565326887], [-0.16555155645453326, -0.2635103665917386, -0.16555155645453326, -0.25599183146134458], [-0.1208928825245278, -0.16981538395472043, -0.1208928825245278, -0.11221736733373003], [-0.16087906090836446, -0.20364088089166435, -0.16087906090836446, -0.14368689695132855], [-0.04290769438036228, 0.090944946924565465, -0.04290769438036228, 0.12410078141822373], [0.21144661922165334, 0.32135389750423637, 0.21144661922165334, 0.23607577645087957], [-0.042768107059815055, 0.084727210478587264, -0.042768107059815055, 0.025662936394781011], [-0.082951322367047178, -0.23413992466638947, -0.082951322367047178, -0.23690070151738782], [-0.26428139823015856, -0.34269198032995907, -0.26428139823015856, -0.35056950135130116], [-0.091157130620165949, -0.10390975959740692, -0.091157130620165949, -0.032381944287496273], [-0.068964163859084063, 0.01825764202423779, -0.068964163859084063, 0.091251714796964298], [0.13851041248454848, 0.14462266719985201, 0.13851041248454848, 0.044299721014866483], [-0.26958009009540757, -0.29661427074801938, -0.26958009009540757, -0.17207445902188068], [-0.22409815430020347, -0.26134822887024756, -0.22409815430020347, -0.14491125475162986], [-0.11269090246124076, -0.26834202029075377, -0.11269090246124076, -0.13539396357769146], [-0.33960921127287702, -0.39432650861173757, -0.33960921127287702, -0.29488551741244101], [-0.09714882974155091, -0.11026734425701662, -0.09714882974155091, 0.010801473707068261], [-0.11954000745937179, -0.25865932512633344, -0.11954000745937179, -0.17302221818202862], [-0.24635290290729886, -0.32709656853709257, -0.24635290290729886, -0.2133745476287682], [0.21570551441147942, 0.18203095949693007, 0.21570551441147942, 0.096878752877501806], [-0.043644121787886764, 0.04341545008702595, -0.043644121787886764, 0.094781696094964077], [-0.064957525013237649, -0.032404589737187156, -0.064957525013237649, 0.070094830821669785], [-0.026580088582650041, -0.26631576793362866, -0.026580088582650041, -0.26814101128739254], [-0.023239341916051454, 0.076369207406286652, -0.023239341916051454, 0.10868891055496083], [-0.086746803282765933, -0.26513182024312915, -0.086746803282765933, -0.25266827901702488], [0.24602944833757356, 0.23307316783051701, 0.24602944833757356, 0.17823592806052499], [0.059860642446970425, 0.14144988643003367, 0.059860642446970425, 0.14180887232098166], [0.11515086551981416, 0.156221528796575, 0.11515086551981416, 0.14176100614207326], [0.15018347724762932, 0.20490077458648986, 0.15018347724762932, 0.14178120426350282], [0.36073007013753794, 0.53315805718082432, 0.36073007013753794, 0.52675454849313863], [0.012427355009743596, 0.03692480060254677, 0.012427355009743596, 0.043740873692725946], [-0.15175400667681171, -0.20264370609877272, -0.15175400667681171, -0.07663763690981816], [-0.046351348368623604, -0.080505596098217752, -0.046351348368623604, -0.084912123357505975], [0.0092243174699492281, 0.12327665247606749, 0.0092243174699492281, 0.082548704340469736], [0.020946365580702234, -0.034405849371429507, 0.020946365580702234, -0.11604123858809905], [-0.20939287583773181, -0.21864237491489169, -0.20939287583773181, -0.070065190593073756], [-0.10467358332256084, -0.19901545628286491, -0.10467358332256084, -0.18579587450500018], [-0.1344922869051568, -0.29529627381988366, -0.1344922869051568, -0.10180993068935869], [-0.030758107022814896, -0.026613050299279711, -0.030758107022814896, -0.015444028461357812], [0.19696633120430199, 0.30076135477158156, 0.19696633120430199, 0.22687757214232548], [-0.10548928453412412, -0.18957384605558969, -0.10548928453412412, -0.097704968498232569], [0.16970565389639133, 0.1451183640505927, 0.16970565389639133, 0.04831223526836588], [0.014585331491029641, 0.19301176597279937, 0.014585331491029641, 0.27024062793018067], [0.14355268986609482, 0.33500779461033464, 0.14355268986609482, 0.31003488851742106]]\n",
      "70\n",
      "70\n"
     ]
    },
    {
     "ename": "KeyError",
     "evalue": "('State', u'occurred at index 0')",
     "output_type": "error",
     "traceback": [
      "\u001b[0;31m---------------------------------------------------------------------------\u001b[0m",
      "\u001b[0;31mKeyError\u001b[0m                                  Traceback (most recent call last)",
      "\u001b[0;32m<ipython-input-72-3d16fe973050>\u001b[0m in \u001b[0;36m<module>\u001b[0;34m()\u001b[0m\n\u001b[0;32m----> 1\u001b[0;31m \u001b[0mmain_recommendation\u001b[0m\u001b[0;34m(\u001b[0m\u001b[0muser_feat\u001b[0m\u001b[0;34m,\u001b[0m\u001b[0mspice_feat\u001b[0m\u001b[0;34m,\u001b[0m\u001b[0muser_rating\u001b[0m\u001b[0;34m)\u001b[0m\u001b[0;34m\u001b[0m\u001b[0m\n\u001b[0m",
      "\u001b[0;32m<ipython-input-70-95e1cebf766f>\u001b[0m in \u001b[0;36mmain_recommendation\u001b[0;34m(user_feat, spice_feat, user_rating)\u001b[0m\n\u001b[1;32m     20\u001b[0m     \u001b[0mnext_day\u001b[0m \u001b[0;34m=\u001b[0m \u001b[0minput\u001b[0m\u001b[0;34m(\u001b[0m\u001b[0;34m'type 0 for recommending items or 1 for next_day recommendation'\u001b[0m\u001b[0;34m)\u001b[0m\u001b[0;34m\u001b[0m\u001b[0m\n\u001b[1;32m     21\u001b[0m     \u001b[0;32mif\u001b[0m \u001b[0mnext_day\u001b[0m \u001b[0;34m==\u001b[0m \u001b[0;36m1\u001b[0m\u001b[0;34m:\u001b[0m\u001b[0;34m\u001b[0m\u001b[0m\n\u001b[0;32m---> 22\u001b[0;31m         \u001b[0mnew_user_feat\u001b[0m \u001b[0;34m=\u001b[0m \u001b[0mnext_day_recommendation\u001b[0m\u001b[0;34m(\u001b[0m\u001b[0muser_feat\u001b[0m\u001b[0;34m,\u001b[0m\u001b[0mnew_user_feat\u001b[0m\u001b[0;34m,\u001b[0m\u001b[0mspice_feat\u001b[0m\u001b[0;34m,\u001b[0m\u001b[0muser_rating\u001b[0m\u001b[0;34m)\u001b[0m\u001b[0;34m\u001b[0m\u001b[0m\n\u001b[0m\u001b[1;32m     23\u001b[0m         \u001b[0mnew_user_feat\u001b[0m\u001b[0;34m.\u001b[0m\u001b[0mto_csv\u001b[0m\u001b[0;34m(\u001b[0m\u001b[0;34m'new_user_feat.csv'\u001b[0m\u001b[0;34m,\u001b[0m\u001b[0mencoding\u001b[0m\u001b[0;34m=\u001b[0m\u001b[0;34m'utf-8'\u001b[0m\u001b[0;34m,\u001b[0m\u001b[0mindex\u001b[0m \u001b[0;34m=\u001b[0m \u001b[0mFalse\u001b[0m\u001b[0;34m)\u001b[0m\u001b[0;34m\u001b[0m\u001b[0m\n\u001b[1;32m     24\u001b[0m     \u001b[0;32melse\u001b[0m\u001b[0;34m:\u001b[0m\u001b[0;34m\u001b[0m\u001b[0m\n",
      "\u001b[0;32m<ipython-input-70-95e1cebf766f>\u001b[0m in \u001b[0;36mnext_day_recommendation\u001b[0;34m(user_feat, new_user_feat, spice_feat, user_rating)\u001b[0m\n\u001b[1;32m     12\u001b[0m     \u001b[0;31m#new_user_feat['not_recommended'].to_csv('not_recommended.csv',encoding='utf-8',index = False)\u001b[0m\u001b[0;34m\u001b[0m\u001b[0;34m\u001b[0m\u001b[0m\n\u001b[1;32m     13\u001b[0m     \u001b[0;31m#print new_user_feat\u001b[0m\u001b[0;34m\u001b[0m\u001b[0;34m\u001b[0m\u001b[0m\n\u001b[0;32m---> 14\u001b[0;31m     \u001b[0mnew_user_feat\u001b[0m\u001b[0;34m[\u001b[0m\u001b[0;34m'recommends'\u001b[0m\u001b[0;34m]\u001b[0m \u001b[0;34m=\u001b[0m \u001b[0mnew_user_feat\u001b[0m\u001b[0;34m.\u001b[0m\u001b[0mapply\u001b[0m\u001b[0;34m(\u001b[0m\u001b[0;32mlambda\u001b[0m \u001b[0mx\u001b[0m\u001b[0;34m:\u001b[0m\u001b[0mrecommend_items\u001b[0m\u001b[0;34m(\u001b[0m\u001b[0mx\u001b[0m\u001b[0;34m[\u001b[0m\u001b[0;34m'user_guid'\u001b[0m\u001b[0;34m]\u001b[0m\u001b[0;34m,\u001b[0m\u001b[0mx\u001b[0m\u001b[0;34m[\u001b[0m\u001b[0;34m'not_recommended'\u001b[0m\u001b[0;34m]\u001b[0m\u001b[0;34m,\u001b[0m\u001b[0muser_group\u001b[0m\u001b[0;34m,\u001b[0m\u001b[0muser_feat\u001b[0m\u001b[0;34m,\u001b[0m\u001b[0mspice_feat\u001b[0m\u001b[0;34m,\u001b[0m\u001b[0muser_rating\u001b[0m\u001b[0;34m,\u001b[0m\u001b[0moutputdf\u001b[0m\u001b[0;34m)\u001b[0m\u001b[0;34m,\u001b[0m\u001b[0maxis\u001b[0m\u001b[0;34m=\u001b[0m\u001b[0;36m1\u001b[0m\u001b[0;34m)\u001b[0m\u001b[0;34m\u001b[0m\u001b[0m\n\u001b[0m\u001b[1;32m     15\u001b[0m     \u001b[0;32mprint\u001b[0m \u001b[0mnew_user_feat\u001b[0m\u001b[0;34m\u001b[0m\u001b[0m\n\u001b[1;32m     16\u001b[0m     \u001b[0;32mreturn\u001b[0m \u001b[0mnew_user_feat\u001b[0m\u001b[0;34m\u001b[0m\u001b[0m\n",
      "\u001b[0;32m/home/demonicode/anaconda2/lib/python2.7/site-packages/pandas/core/frame.pyc\u001b[0m in \u001b[0;36mapply\u001b[0;34m(self, func, axis, broadcast, raw, reduce, args, **kwds)\u001b[0m\n\u001b[1;32m   4260\u001b[0m                         \u001b[0mf\u001b[0m\u001b[0;34m,\u001b[0m \u001b[0maxis\u001b[0m\u001b[0;34m,\u001b[0m\u001b[0;34m\u001b[0m\u001b[0m\n\u001b[1;32m   4261\u001b[0m                         \u001b[0mreduce\u001b[0m\u001b[0;34m=\u001b[0m\u001b[0mreduce\u001b[0m\u001b[0;34m,\u001b[0m\u001b[0;34m\u001b[0m\u001b[0m\n\u001b[0;32m-> 4262\u001b[0;31m                         ignore_failures=ignore_failures)\n\u001b[0m\u001b[1;32m   4263\u001b[0m             \u001b[0;32melse\u001b[0m\u001b[0;34m:\u001b[0m\u001b[0;34m\u001b[0m\u001b[0m\n\u001b[1;32m   4264\u001b[0m                 \u001b[0;32mreturn\u001b[0m \u001b[0mself\u001b[0m\u001b[0;34m.\u001b[0m\u001b[0m_apply_broadcast\u001b[0m\u001b[0;34m(\u001b[0m\u001b[0mf\u001b[0m\u001b[0;34m,\u001b[0m \u001b[0maxis\u001b[0m\u001b[0;34m)\u001b[0m\u001b[0;34m\u001b[0m\u001b[0m\n",
      "\u001b[0;32m/home/demonicode/anaconda2/lib/python2.7/site-packages/pandas/core/frame.pyc\u001b[0m in \u001b[0;36m_apply_standard\u001b[0;34m(self, func, axis, ignore_failures, reduce)\u001b[0m\n\u001b[1;32m   4356\u001b[0m             \u001b[0;32mtry\u001b[0m\u001b[0;34m:\u001b[0m\u001b[0;34m\u001b[0m\u001b[0m\n\u001b[1;32m   4357\u001b[0m                 \u001b[0;32mfor\u001b[0m \u001b[0mi\u001b[0m\u001b[0;34m,\u001b[0m \u001b[0mv\u001b[0m \u001b[0;32min\u001b[0m \u001b[0menumerate\u001b[0m\u001b[0;34m(\u001b[0m\u001b[0mseries_gen\u001b[0m\u001b[0;34m)\u001b[0m\u001b[0;34m:\u001b[0m\u001b[0;34m\u001b[0m\u001b[0m\n\u001b[0;32m-> 4358\u001b[0;31m                     \u001b[0mresults\u001b[0m\u001b[0;34m[\u001b[0m\u001b[0mi\u001b[0m\u001b[0;34m]\u001b[0m \u001b[0;34m=\u001b[0m \u001b[0mfunc\u001b[0m\u001b[0;34m(\u001b[0m\u001b[0mv\u001b[0m\u001b[0;34m)\u001b[0m\u001b[0;34m\u001b[0m\u001b[0m\n\u001b[0m\u001b[1;32m   4359\u001b[0m                     \u001b[0mkeys\u001b[0m\u001b[0;34m.\u001b[0m\u001b[0mappend\u001b[0m\u001b[0;34m(\u001b[0m\u001b[0mv\u001b[0m\u001b[0;34m.\u001b[0m\u001b[0mname\u001b[0m\u001b[0;34m)\u001b[0m\u001b[0;34m\u001b[0m\u001b[0m\n\u001b[1;32m   4360\u001b[0m             \u001b[0;32mexcept\u001b[0m \u001b[0mException\u001b[0m \u001b[0;32mas\u001b[0m \u001b[0me\u001b[0m\u001b[0;34m:\u001b[0m\u001b[0;34m\u001b[0m\u001b[0m\n",
      "\u001b[0;32m<ipython-input-70-95e1cebf766f>\u001b[0m in \u001b[0;36m<lambda>\u001b[0;34m(x)\u001b[0m\n\u001b[1;32m     12\u001b[0m     \u001b[0;31m#new_user_feat['not_recommended'].to_csv('not_recommended.csv',encoding='utf-8',index = False)\u001b[0m\u001b[0;34m\u001b[0m\u001b[0;34m\u001b[0m\u001b[0m\n\u001b[1;32m     13\u001b[0m     \u001b[0;31m#print new_user_feat\u001b[0m\u001b[0;34m\u001b[0m\u001b[0;34m\u001b[0m\u001b[0m\n\u001b[0;32m---> 14\u001b[0;31m     \u001b[0mnew_user_feat\u001b[0m\u001b[0;34m[\u001b[0m\u001b[0;34m'recommends'\u001b[0m\u001b[0;34m]\u001b[0m \u001b[0;34m=\u001b[0m \u001b[0mnew_user_feat\u001b[0m\u001b[0;34m.\u001b[0m\u001b[0mapply\u001b[0m\u001b[0;34m(\u001b[0m\u001b[0;32mlambda\u001b[0m \u001b[0mx\u001b[0m\u001b[0;34m:\u001b[0m\u001b[0mrecommend_items\u001b[0m\u001b[0;34m(\u001b[0m\u001b[0mx\u001b[0m\u001b[0;34m[\u001b[0m\u001b[0;34m'user_guid'\u001b[0m\u001b[0;34m]\u001b[0m\u001b[0;34m,\u001b[0m\u001b[0mx\u001b[0m\u001b[0;34m[\u001b[0m\u001b[0;34m'not_recommended'\u001b[0m\u001b[0;34m]\u001b[0m\u001b[0;34m,\u001b[0m\u001b[0muser_group\u001b[0m\u001b[0;34m,\u001b[0m\u001b[0muser_feat\u001b[0m\u001b[0;34m,\u001b[0m\u001b[0mspice_feat\u001b[0m\u001b[0;34m,\u001b[0m\u001b[0muser_rating\u001b[0m\u001b[0;34m,\u001b[0m\u001b[0moutputdf\u001b[0m\u001b[0;34m)\u001b[0m\u001b[0;34m,\u001b[0m\u001b[0maxis\u001b[0m\u001b[0;34m=\u001b[0m\u001b[0;36m1\u001b[0m\u001b[0;34m)\u001b[0m\u001b[0;34m\u001b[0m\u001b[0m\n\u001b[0m\u001b[1;32m     15\u001b[0m     \u001b[0;32mprint\u001b[0m \u001b[0mnew_user_feat\u001b[0m\u001b[0;34m\u001b[0m\u001b[0m\n\u001b[1;32m     16\u001b[0m     \u001b[0;32mreturn\u001b[0m \u001b[0mnew_user_feat\u001b[0m\u001b[0;34m\u001b[0m\u001b[0m\n",
      "\u001b[0;32m<ipython-input-68-fd4c27060fa7>\u001b[0m in \u001b[0;36mrecommend_items\u001b[0;34m(user_id, non_recom_list, user, user_feat, spice_feat, user_rating, output_df)\u001b[0m\n\u001b[1;32m      1\u001b[0m \u001b[0;32mdef\u001b[0m \u001b[0mrecommend_items\u001b[0m\u001b[0;34m(\u001b[0m\u001b[0muser_id\u001b[0m\u001b[0;34m,\u001b[0m\u001b[0mnon_recom_list\u001b[0m\u001b[0;34m,\u001b[0m\u001b[0muser\u001b[0m\u001b[0;34m,\u001b[0m\u001b[0muser_feat\u001b[0m\u001b[0;34m,\u001b[0m\u001b[0mspice_feat\u001b[0m\u001b[0;34m,\u001b[0m\u001b[0muser_rating\u001b[0m\u001b[0;34m,\u001b[0m\u001b[0moutput_df\u001b[0m\u001b[0;34m)\u001b[0m\u001b[0;34m:\u001b[0m\u001b[0;34m\u001b[0m\u001b[0m\n\u001b[1;32m      2\u001b[0m     \u001b[0;31m#print type(non_recom_list)\u001b[0m\u001b[0;34m\u001b[0m\u001b[0;34m\u001b[0m\u001b[0m\n\u001b[0;32m----> 3\u001b[0;31m     \u001b[0ml1\u001b[0m \u001b[0;34m=\u001b[0m \u001b[0mrecommendation\u001b[0m\u001b[0;34m(\u001b[0m\u001b[0muser\u001b[0m\u001b[0;34m,\u001b[0m\u001b[0muser_id\u001b[0m\u001b[0;34m,\u001b[0m\u001b[0mnon_recom_list\u001b[0m\u001b[0;34m,\u001b[0m\u001b[0muser_feat\u001b[0m\u001b[0;34m,\u001b[0m\u001b[0mspice_feat\u001b[0m\u001b[0;34m)\u001b[0m\u001b[0;34m\u001b[0m\u001b[0m\n\u001b[0m\u001b[1;32m      4\u001b[0m     \u001b[0;32mprint\u001b[0m \u001b[0;34m'something1'\u001b[0m\u001b[0;34m\u001b[0m\u001b[0m\n\u001b[1;32m      5\u001b[0m     \u001b[0ml2\u001b[0m \u001b[0;34m=\u001b[0m \u001b[0mrecommendation_content\u001b[0m\u001b[0;34m(\u001b[0m\u001b[0muser_id\u001b[0m\u001b[0;34m,\u001b[0m\u001b[0mspice_feat\u001b[0m\u001b[0;34m,\u001b[0m\u001b[0muser_rating\u001b[0m\u001b[0;34m,\u001b[0m\u001b[0mnon_recom_list\u001b[0m\u001b[0;34m,\u001b[0m\u001b[0muser_feat\u001b[0m\u001b[0;34m,\u001b[0m\u001b[0moutput_df\u001b[0m\u001b[0;34m)\u001b[0m\u001b[0;34m\u001b[0m\u001b[0m\n",
      "\u001b[0;32m<ipython-input-62-9c1f85104e46>\u001b[0m in \u001b[0;36mrecommendation\u001b[0;34m(user_group, user_id, non_recom_list, user_feat, spice_feat)\u001b[0m\n\u001b[1;32m      6\u001b[0m \u001b[0;34m\u001b[0m\u001b[0m\n\u001b[1;32m      7\u001b[0m     \u001b[0;32mif\u001b[0m\u001b[0;34m(\u001b[0m\u001b[0mlen\u001b[0m\u001b[0;34m(\u001b[0m\u001b[0mrecommend\u001b[0m\u001b[0;34m)\u001b[0m\u001b[0;34m==\u001b[0m\u001b[0;36m0\u001b[0m\u001b[0;34m)\u001b[0m\u001b[0;34m:\u001b[0m\u001b[0;34m\u001b[0m\u001b[0m\n\u001b[0;32m----> 8\u001b[0;31m         \u001b[0mother_state_spice\u001b[0m \u001b[0;34m=\u001b[0m \u001b[0mspice_feat\u001b[0m\u001b[0;34m[\u001b[0m\u001b[0mspice_feat\u001b[0m\u001b[0;34m[\u001b[0m\u001b[0;34m'State'\u001b[0m\u001b[0;34m]\u001b[0m\u001b[0;34m.\u001b[0m\u001b[0misin\u001b[0m\u001b[0;34m(\u001b[0m\u001b[0mloc\u001b[0m\u001b[0;34m)\u001b[0m\u001b[0;34m==\u001b[0m\u001b[0mFalse\u001b[0m\u001b[0;34m]\u001b[0m\u001b[0;34m\u001b[0m\u001b[0m\n\u001b[0m\u001b[1;32m      9\u001b[0m \u001b[0;34m\u001b[0m\u001b[0m\n\u001b[1;32m     10\u001b[0m         \u001b[0mother_state_spice\u001b[0m \u001b[0;34m=\u001b[0m \u001b[0mother_state_spice\u001b[0m\u001b[0;34m.\u001b[0m\u001b[0msort\u001b[0m\u001b[0;34m(\u001b[0m\u001b[0;34m'count'\u001b[0m\u001b[0;34m,\u001b[0m\u001b[0mascending\u001b[0m\u001b[0;34m=\u001b[0m \u001b[0;34m[\u001b[0m\u001b[0;36m0\u001b[0m\u001b[0;34m]\u001b[0m\u001b[0;34m)\u001b[0m\u001b[0;34m\u001b[0m\u001b[0m\n",
      "\u001b[0;32m/home/demonicode/anaconda2/lib/python2.7/site-packages/pandas/core/frame.pyc\u001b[0m in \u001b[0;36m__getitem__\u001b[0;34m(self, key)\u001b[0m\n\u001b[1;32m   1962\u001b[0m             \u001b[0;32mreturn\u001b[0m \u001b[0mself\u001b[0m\u001b[0;34m.\u001b[0m\u001b[0m_getitem_multilevel\u001b[0m\u001b[0;34m(\u001b[0m\u001b[0mkey\u001b[0m\u001b[0;34m)\u001b[0m\u001b[0;34m\u001b[0m\u001b[0m\n\u001b[1;32m   1963\u001b[0m         \u001b[0;32melse\u001b[0m\u001b[0;34m:\u001b[0m\u001b[0;34m\u001b[0m\u001b[0m\n\u001b[0;32m-> 1964\u001b[0;31m             \u001b[0;32mreturn\u001b[0m \u001b[0mself\u001b[0m\u001b[0;34m.\u001b[0m\u001b[0m_getitem_column\u001b[0m\u001b[0;34m(\u001b[0m\u001b[0mkey\u001b[0m\u001b[0;34m)\u001b[0m\u001b[0;34m\u001b[0m\u001b[0m\n\u001b[0m\u001b[1;32m   1965\u001b[0m \u001b[0;34m\u001b[0m\u001b[0m\n\u001b[1;32m   1966\u001b[0m     \u001b[0;32mdef\u001b[0m \u001b[0m_getitem_column\u001b[0m\u001b[0;34m(\u001b[0m\u001b[0mself\u001b[0m\u001b[0;34m,\u001b[0m \u001b[0mkey\u001b[0m\u001b[0;34m)\u001b[0m\u001b[0;34m:\u001b[0m\u001b[0;34m\u001b[0m\u001b[0m\n",
      "\u001b[0;32m/home/demonicode/anaconda2/lib/python2.7/site-packages/pandas/core/frame.pyc\u001b[0m in \u001b[0;36m_getitem_column\u001b[0;34m(self, key)\u001b[0m\n\u001b[1;32m   1969\u001b[0m         \u001b[0;31m# get column\u001b[0m\u001b[0;34m\u001b[0m\u001b[0;34m\u001b[0m\u001b[0m\n\u001b[1;32m   1970\u001b[0m         \u001b[0;32mif\u001b[0m \u001b[0mself\u001b[0m\u001b[0;34m.\u001b[0m\u001b[0mcolumns\u001b[0m\u001b[0;34m.\u001b[0m\u001b[0mis_unique\u001b[0m\u001b[0;34m:\u001b[0m\u001b[0;34m\u001b[0m\u001b[0m\n\u001b[0;32m-> 1971\u001b[0;31m             \u001b[0;32mreturn\u001b[0m \u001b[0mself\u001b[0m\u001b[0;34m.\u001b[0m\u001b[0m_get_item_cache\u001b[0m\u001b[0;34m(\u001b[0m\u001b[0mkey\u001b[0m\u001b[0;34m)\u001b[0m\u001b[0;34m\u001b[0m\u001b[0m\n\u001b[0m\u001b[1;32m   1972\u001b[0m \u001b[0;34m\u001b[0m\u001b[0m\n\u001b[1;32m   1973\u001b[0m         \u001b[0;31m# duplicate columns & possible reduce dimensionality\u001b[0m\u001b[0;34m\u001b[0m\u001b[0;34m\u001b[0m\u001b[0m\n",
      "\u001b[0;32m/home/demonicode/anaconda2/lib/python2.7/site-packages/pandas/core/generic.pyc\u001b[0m in \u001b[0;36m_get_item_cache\u001b[0;34m(self, item)\u001b[0m\n\u001b[1;32m   1643\u001b[0m         \u001b[0mres\u001b[0m \u001b[0;34m=\u001b[0m \u001b[0mcache\u001b[0m\u001b[0;34m.\u001b[0m\u001b[0mget\u001b[0m\u001b[0;34m(\u001b[0m\u001b[0mitem\u001b[0m\u001b[0;34m)\u001b[0m\u001b[0;34m\u001b[0m\u001b[0m\n\u001b[1;32m   1644\u001b[0m         \u001b[0;32mif\u001b[0m \u001b[0mres\u001b[0m \u001b[0;32mis\u001b[0m \u001b[0mNone\u001b[0m\u001b[0;34m:\u001b[0m\u001b[0;34m\u001b[0m\u001b[0m\n\u001b[0;32m-> 1645\u001b[0;31m             \u001b[0mvalues\u001b[0m \u001b[0;34m=\u001b[0m \u001b[0mself\u001b[0m\u001b[0;34m.\u001b[0m\u001b[0m_data\u001b[0m\u001b[0;34m.\u001b[0m\u001b[0mget\u001b[0m\u001b[0;34m(\u001b[0m\u001b[0mitem\u001b[0m\u001b[0;34m)\u001b[0m\u001b[0;34m\u001b[0m\u001b[0m\n\u001b[0m\u001b[1;32m   1646\u001b[0m             \u001b[0mres\u001b[0m \u001b[0;34m=\u001b[0m \u001b[0mself\u001b[0m\u001b[0;34m.\u001b[0m\u001b[0m_box_item_values\u001b[0m\u001b[0;34m(\u001b[0m\u001b[0mitem\u001b[0m\u001b[0;34m,\u001b[0m \u001b[0mvalues\u001b[0m\u001b[0;34m)\u001b[0m\u001b[0;34m\u001b[0m\u001b[0m\n\u001b[1;32m   1647\u001b[0m             \u001b[0mcache\u001b[0m\u001b[0;34m[\u001b[0m\u001b[0mitem\u001b[0m\u001b[0;34m]\u001b[0m \u001b[0;34m=\u001b[0m \u001b[0mres\u001b[0m\u001b[0;34m\u001b[0m\u001b[0m\n",
      "\u001b[0;32m/home/demonicode/anaconda2/lib/python2.7/site-packages/pandas/core/internals.pyc\u001b[0m in \u001b[0;36mget\u001b[0;34m(self, item, fastpath)\u001b[0m\n\u001b[1;32m   3588\u001b[0m \u001b[0;34m\u001b[0m\u001b[0m\n\u001b[1;32m   3589\u001b[0m             \u001b[0;32mif\u001b[0m \u001b[0;32mnot\u001b[0m \u001b[0misnull\u001b[0m\u001b[0;34m(\u001b[0m\u001b[0mitem\u001b[0m\u001b[0;34m)\u001b[0m\u001b[0;34m:\u001b[0m\u001b[0;34m\u001b[0m\u001b[0m\n\u001b[0;32m-> 3590\u001b[0;31m                 \u001b[0mloc\u001b[0m \u001b[0;34m=\u001b[0m \u001b[0mself\u001b[0m\u001b[0;34m.\u001b[0m\u001b[0mitems\u001b[0m\u001b[0;34m.\u001b[0m\u001b[0mget_loc\u001b[0m\u001b[0;34m(\u001b[0m\u001b[0mitem\u001b[0m\u001b[0;34m)\u001b[0m\u001b[0;34m\u001b[0m\u001b[0m\n\u001b[0m\u001b[1;32m   3591\u001b[0m             \u001b[0;32melse\u001b[0m\u001b[0;34m:\u001b[0m\u001b[0;34m\u001b[0m\u001b[0m\n\u001b[1;32m   3592\u001b[0m                 \u001b[0mindexer\u001b[0m \u001b[0;34m=\u001b[0m \u001b[0mnp\u001b[0m\u001b[0;34m.\u001b[0m\u001b[0marange\u001b[0m\u001b[0;34m(\u001b[0m\u001b[0mlen\u001b[0m\u001b[0;34m(\u001b[0m\u001b[0mself\u001b[0m\u001b[0;34m.\u001b[0m\u001b[0mitems\u001b[0m\u001b[0;34m)\u001b[0m\u001b[0;34m)\u001b[0m\u001b[0;34m[\u001b[0m\u001b[0misnull\u001b[0m\u001b[0;34m(\u001b[0m\u001b[0mself\u001b[0m\u001b[0;34m.\u001b[0m\u001b[0mitems\u001b[0m\u001b[0;34m)\u001b[0m\u001b[0;34m]\u001b[0m\u001b[0;34m\u001b[0m\u001b[0m\n",
      "\u001b[0;32m/home/demonicode/anaconda2/lib/python2.7/site-packages/pandas/core/indexes/base.pyc\u001b[0m in \u001b[0;36mget_loc\u001b[0;34m(self, key, method, tolerance)\u001b[0m\n\u001b[1;32m   2442\u001b[0m                 \u001b[0;32mreturn\u001b[0m \u001b[0mself\u001b[0m\u001b[0;34m.\u001b[0m\u001b[0m_engine\u001b[0m\u001b[0;34m.\u001b[0m\u001b[0mget_loc\u001b[0m\u001b[0;34m(\u001b[0m\u001b[0mkey\u001b[0m\u001b[0;34m)\u001b[0m\u001b[0;34m\u001b[0m\u001b[0m\n\u001b[1;32m   2443\u001b[0m             \u001b[0;32mexcept\u001b[0m \u001b[0mKeyError\u001b[0m\u001b[0;34m:\u001b[0m\u001b[0;34m\u001b[0m\u001b[0m\n\u001b[0;32m-> 2444\u001b[0;31m                 \u001b[0;32mreturn\u001b[0m \u001b[0mself\u001b[0m\u001b[0;34m.\u001b[0m\u001b[0m_engine\u001b[0m\u001b[0;34m.\u001b[0m\u001b[0mget_loc\u001b[0m\u001b[0;34m(\u001b[0m\u001b[0mself\u001b[0m\u001b[0;34m.\u001b[0m\u001b[0m_maybe_cast_indexer\u001b[0m\u001b[0;34m(\u001b[0m\u001b[0mkey\u001b[0m\u001b[0;34m)\u001b[0m\u001b[0;34m)\u001b[0m\u001b[0;34m\u001b[0m\u001b[0m\n\u001b[0m\u001b[1;32m   2445\u001b[0m \u001b[0;34m\u001b[0m\u001b[0m\n\u001b[1;32m   2446\u001b[0m         \u001b[0mindexer\u001b[0m \u001b[0;34m=\u001b[0m \u001b[0mself\u001b[0m\u001b[0;34m.\u001b[0m\u001b[0mget_indexer\u001b[0m\u001b[0;34m(\u001b[0m\u001b[0;34m[\u001b[0m\u001b[0mkey\u001b[0m\u001b[0;34m]\u001b[0m\u001b[0;34m,\u001b[0m \u001b[0mmethod\u001b[0m\u001b[0;34m=\u001b[0m\u001b[0mmethod\u001b[0m\u001b[0;34m,\u001b[0m \u001b[0mtolerance\u001b[0m\u001b[0;34m=\u001b[0m\u001b[0mtolerance\u001b[0m\u001b[0;34m)\u001b[0m\u001b[0;34m\u001b[0m\u001b[0m\n",
      "\u001b[0;32mpandas/_libs/index.pyx\u001b[0m in \u001b[0;36mpandas._libs.index.IndexEngine.get_loc\u001b[0;34m()\u001b[0m\n",
      "\u001b[0;32mpandas/_libs/index.pyx\u001b[0m in \u001b[0;36mpandas._libs.index.IndexEngine.get_loc\u001b[0;34m()\u001b[0m\n",
      "\u001b[0;32mpandas/_libs/hashtable_class_helper.pxi\u001b[0m in \u001b[0;36mpandas._libs.hashtable.PyObjectHashTable.get_item\u001b[0;34m()\u001b[0m\n",
      "\u001b[0;32mpandas/_libs/hashtable_class_helper.pxi\u001b[0m in \u001b[0;36mpandas._libs.hashtable.PyObjectHashTable.get_item\u001b[0;34m()\u001b[0m\n",
      "\u001b[0;31mKeyError\u001b[0m: ('State', u'occurred at index 0')"
     ]
    }
   ],
   "source": [
    "main_recommendation(user_feat,spice_feat,user_rating)"
   ]
  },
  {
   "cell_type": "code",
   "execution_count": null,
   "metadata": {
    "collapsed": true
   },
   "outputs": [],
   "source": []
  },
  {
   "cell_type": "code",
   "execution_count": null,
   "metadata": {
    "collapsed": true
   },
   "outputs": [],
   "source": []
  },
  {
   "cell_type": "code",
   "execution_count": null,
   "metadata": {
    "collapsed": true
   },
   "outputs": [],
   "source": []
  }
 ],
 "metadata": {
  "anaconda-cloud": {},
  "kernelspec": {
   "display_name": "Python 2",
   "language": "python",
   "name": "python2"
  },
  "language_info": {
   "codemirror_mode": {
    "name": "ipython",
    "version": 2
   },
   "file_extension": ".py",
   "mimetype": "text/x-python",
   "name": "python",
   "nbconvert_exporter": "python",
   "pygments_lexer": "ipython2",
   "version": "2.7.14"
  }
 },
 "nbformat": 4,
 "nbformat_minor": 1
}
