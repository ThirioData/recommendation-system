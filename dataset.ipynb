{
 "cells": [
  {
   "cell_type": "code",
   "execution_count": 1,
   "metadata": {},
   "outputs": [],
   "source": [
    "import pandas as pd\n",
    "import numpy as np\n",
    "import re\n",
    "import os"
   ]
  },
  {
   "cell_type": "code",
   "execution_count": 2,
   "metadata": {},
   "outputs": [
    {
     "name": "stdout",
     "output_type": "stream",
     "text": [
      "    spice1  spice2  spice3  spice4  count  Location  NonVeg  calorie  food_id\n",
      "0        0       1       1       1      0        15       1      482    60000\n",
      "1        1       0       0       0      1         2       2      394    60001\n",
      "2        1       0       0       0      4         2       1      447    60002\n",
      "3        0       1       1       0      3         2       0      443    60003\n",
      "4        0       1       1       0      0         5       2      492    60004\n",
      "5        1       1       1       1      4         6       0      404    60005\n",
      "6        1       1       1       0      3         6       1      170    60006\n",
      "7        0       0       1       0      4         8       1      173    60007\n",
      "8        1       0       0       1      4         6       1      308    60008\n",
      "9        0       0       0       0      3        15       0      424    60009\n",
      "10       1       1       1       0      2         6       2      221    60010\n",
      "11       1       1       1       0      4        10       0      120    60011\n",
      "12       1       1       0       0      3        10       1       29    60012\n",
      "13       1       1       0       1      0        10       2      242    60013\n",
      "14       0       1       1       1      4         8       1       37    60014\n",
      "15       1       1       0       1      0         6       1      161    60015\n",
      "16       1       1       0       1      3        15       1      385    60016\n",
      "17       1       1       0       0      1         2       1      442    60017\n",
      "18       0       1       0       0      2        10       2      353    60018\n",
      "19       0       1       0       1      0        15       1      231    60019\n",
      "20       0       0       1       0      3         5       0      102    60020\n",
      "21       1       0       1       0      4         5       0      394    60021\n",
      "22       0       0       1       0      4         6       1      281    60022\n",
      "23       0       0       1       0      2         8       0      338    60023\n",
      "24       0       1       1       1      0         2       1      377    60024\n",
      "25       1       0       1       0      0         6       2      157    60025\n",
      "26       1       1       0       1      2         2       2      339    60026\n",
      "27       1       1       1       0      0        15       0      268    60027\n",
      "28       0       1       0       0      2         8       2      194    60028\n",
      "29       0       1       0       1      2         8       1      397    60029\n",
      "..     ...     ...     ...     ...    ...       ...     ...      ...      ...\n",
      "70       1       0       0       0      4         2       2      376    60070\n",
      "71       0       0       1       0      1         8       0      413    60071\n",
      "72       0       0       0       1      1         2       0      254    60072\n",
      "73       1       1       1       1      4         5       1      107    60073\n",
      "74       0       1       0       1      2        10       2      176    60074\n",
      "75       0       1       0       0      2         8       0       45    60075\n",
      "76       1       1       0       0      1        10       2      385    60076\n",
      "77       0       0       0       0      4        10       0      281    60077\n",
      "78       1       0       1       0      0         8       2      469    60078\n",
      "79       1       0       1       1      4         8       1      175    60079\n",
      "80       1       0       0       1      1         6       1      119    60080\n",
      "81       0       1       1       0      2         6       2      114    60081\n",
      "82       1       1       1       0      3         8       1       71    60082\n",
      "83       1       1       1       0      1         2       2      247    60083\n",
      "84       1       1       1       0      3        10       1      361    60084\n",
      "85       0       0       0       0      2         8       1       15    60085\n",
      "86       0       1       0       1      2         5       1      415    60086\n",
      "87       1       1       1       0      0         8       2       58    60087\n",
      "88       1       0       1       0      2         8       2      371    60088\n",
      "89       0       0       1       1      1         2       0      262    60089\n",
      "90       1       1       0       0      0        15       2      347    60090\n",
      "91       1       0       1       1      2        15       0      485    60091\n",
      "92       1       0       1       1      2         5       2      136    60092\n",
      "93       0       1       1       1      3         5       0      128    60093\n",
      "94       1       0       0       1      4        10       1      135    60094\n",
      "95       0       1       1       0      4         5       1      170    60095\n",
      "96       1       1       0       0      3         2       1      153    60096\n",
      "97       0       1       0       1      2         8       0      488    60097\n",
      "98       0       1       0       0      3         6       1      482    60098\n",
      "99       0       1       1       0      0         2       0      475    60099\n",
      "\n",
      "[100 rows x 9 columns]\n"
     ]
    }
   ],
   "source": [
    "#Data Preparation\n",
    "#user_feature table\n",
    "user_feat = pd.DataFrame(np.random.randint(low=0, high=10, size=(100, 3)),columns=['Age','Sex','Location'])\n",
    "\n",
    "\n",
    "user_feat['Age'] = pd.DataFrame(np.random.randint(5,100, size = (100,1)))\n",
    "user_feat['Location'] = np.random.choice(['J&K', 'Haryana', 'Punjab', 'U.P.', 'Maharashtra', 'South India'],100)\n",
    "user_feat['Sex']= np.random.choice([\"M\",\"F\"],100)\n",
    "\n",
    "\n",
    "#0=veg,1=nonveg,2=both\n",
    "user_feat['NonVeg'] = np.random.randint(low=0, high=3, size = (100,1))\n",
    "#print user_feat\n",
    "\n",
    "num = np.arange(500,5000)\n",
    "num = num[0:len(user_feat)]\n",
    "user_feat['user_guid'] = num\n",
    "user_feat.to_csv('user_features.csv', encoding='utf-8', index=False)\n",
    "\n",
    "#spice_feature table\n",
    "spice_feat = pd.DataFrame(np.random.randint(low=0, high=2, size=(100, 6)),columns=['spice1','spice2','spice3','spice4','count','Location'])\n",
    "spice_feat['NonVeg'] = np.random.randint(low=0, high=3, size = (100,1))\n",
    "\n",
    "spice_feat['calorie'] = np.random.randint(low=10, high=501, size = (100,1))\n",
    "\n",
    "num = np.arange(60000,70000)\n",
    "num = num[0:len(spice_feat)]\n",
    "\n",
    "spice_feat['food_id'] = num\n",
    "spice_feat['count'] = np.random.randint(0,5, size=len(spice_feat))\n",
    "spice_feat['Location'] = np.random.choice(['J&K', 'Haryana', 'Punjab', 'U.P.', 'Maharashtra', 'South India'],100)\n",
    "\n",
    "l_dict = {'J&K':2, 'Haryana':5, 'Punjab':6, 'U.P.':8, 'Maharashtra':10, 'South India':15}\n",
    "\n",
    "spice_feat  = spice_feat.replace({'Location':l_dict})\n",
    "\n",
    "print spice_feat\n",
    "#food user rating table\n",
    "food_user = pd.DataFrame(np.random.randint(low=0, high=2, size=(len(spice_feat),len(user_feat))),columns=user_feat.user_guid)\n",
    "food_user.index  =  spice_feat['food_id']\n",
    "#print food_user.head()"
   ]
  },
  {
   "cell_type": "code",
   "execution_count": null,
   "metadata": {
    "collapsed": true
   },
   "outputs": [],
   "source": []
  },
  {
   "cell_type": "code",
   "execution_count": 3,
   "metadata": {
    "collapsed": true
   },
   "outputs": [],
   "source": [
    "spice_feat.to_csv('spice_features.csv', encoding='utf-8', index=False)"
   ]
  },
  {
   "cell_type": "code",
   "execution_count": 6,
   "metadata": {
    "collapsed": true
   },
   "outputs": [],
   "source": []
  },
  {
   "cell_type": "code",
   "execution_count": null,
   "metadata": {
    "collapsed": true
   },
   "outputs": [],
   "source": []
  }
 ],
 "metadata": {
  "kernelspec": {
   "display_name": "Python 2",
   "language": "python",
   "name": "python2"
  },
  "language_info": {
   "codemirror_mode": {
    "name": "ipython",
    "version": 2
   },
   "file_extension": ".py",
   "mimetype": "text/x-python",
   "name": "python",
   "nbconvert_exporter": "python",
   "pygments_lexer": "ipython2",
   "version": "2.7.14"
  }
 },
 "nbformat": 4,
 "nbformat_minor": 2
}
